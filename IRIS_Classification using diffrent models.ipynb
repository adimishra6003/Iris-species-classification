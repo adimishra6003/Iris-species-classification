{
 "cells": [
  {
   "cell_type": "code",
   "execution_count": 76,
   "metadata": {},
   "outputs": [
    {
     "name": "stdout",
     "output_type": "stream",
     "text": [
      "Accuracy using Decision Tree Classifier is 0.9466666666666667\n",
      "Accuracy using KNeighbors Classifier is 0.96\n",
      "Accuracy using Support Vector Classifier is 0.96\n",
      "Accuracy using Logistic Regression Classifier is 0.96\n"
     ]
    },
    {
     "name": "stderr",
     "output_type": "stream",
     "text": [
      "c:\\users\\cg-dte\\appdata\\local\\programs\\python\\python36\\lib\\site-packages\\sklearn\\svm\\base.py:196: FutureWarning: The default value of gamma will change from 'auto' to 'scale' in version 0.22 to account better for unscaled features. Set gamma explicitly to 'auto' or 'scale' to avoid this warning.\n",
      "  \"avoid this warning.\", FutureWarning)\n",
      "c:\\users\\cg-dte\\appdata\\local\\programs\\python\\python36\\lib\\site-packages\\sklearn\\linear_model\\logistic.py:433: FutureWarning: Default solver will be changed to 'lbfgs' in 0.22. Specify a solver to silence this warning.\n",
      "  FutureWarning)\n",
      "c:\\users\\cg-dte\\appdata\\local\\programs\\python\\python36\\lib\\site-packages\\sklearn\\linear_model\\logistic.py:460: FutureWarning: Default multi_class will be changed to 'auto' in 0.22. Specify the multi_class option to silence this warning.\n",
      "  \"this warning.\", FutureWarning)\n"
     ]
    }
   ],
   "source": [
    "from  sklearn import  datasets\n",
    "from sklearn import tree,svm,neighbors,linear_model\n",
    "iris=datasets.load_iris()\n",
    "x=iris.data\n",
    "y=iris.target\n",
    "from sklearn.model_selection import train_test_split\n",
    "x_train,x_test,y_train,y_test=train_test_split(x,y,test_size=.5)\n",
    "\n",
    "#Using Decision Tree Classifier\n",
    "\n",
    "classifier_1=tree.DecisionTreeClassifier()\n",
    "classifier_1.fit(x_train,y_train)\n",
    "predictions_1=classifier_1.predict(x_test)\n",
    "from sklearn.metrics import accuracy_score\n",
    "print('Accuracy using Decision Tree Classifier is '+str(accuracy_score(y_test,predictions_1)))\n",
    "\n",
    "#Using KNeighbors Classifier\n",
    "\n",
    "classifier_2=neighbors.KNeighborsClassifier()\n",
    "classifier_2.fit(x_train,y_train)\n",
    "predictions_2=classifier_2.predict(x_test)\n",
    "print('Accuracy using KNeighbors Classifier is ' +str(accuracy_score(y_test,predictions_2)))\n",
    "\n",
    "#Using Support Vector Classifier\n",
    "\n",
    "classifier_3=svm.SVC()\n",
    "classifier_3.fit(x_train, y_train)\n",
    "predictions_3=classifier_3.predict(x_test)\n",
    "print('Accuracy using Support Vector Classifier is '+str(accuracy_score(y_test, predictions_3)))\n",
    "#Using Logistic Regression Classifier\n",
    "\n",
    "classifier_4=linear_model.LogisticRegression()\n",
    "classifier_4.fit(x_train,y_train)\n",
    "predictions_4=classifier_4.predict(x_test)\n",
    "print('Accuracy using Logistic Regression Classifier is '+str(accuracy_score(y_test, predictions_4)))"
   ]
  }
 ],
 "metadata": {
  "kernelspec": {
   "display_name": "Python 3",
   "language": "python",
   "name": "python3"
  },
  "language_info": {
   "codemirror_mode": {
    "name": "ipython",
    "version": 3
   },
   "file_extension": ".py",
   "mimetype": "text/x-python",
   "name": "python",
   "nbconvert_exporter": "python",
   "pygments_lexer": "ipython3",
   "version": "3.6.2"
  }
 },
 "nbformat": 4,
 "nbformat_minor": 2
}
